{
 "cells": [
  {
   "cell_type": "code",
   "execution_count": 92,
   "id": "c4b795aa",
   "metadata": {},
   "outputs": [],
   "source": [
    "import random\n",
    "import numpy as np"
   ]
  },
  {
   "cell_type": "code",
   "execution_count": 195,
   "id": "85f9f4e0",
   "metadata": {},
   "outputs": [
    {
     "name": "stdout",
     "output_type": "stream",
     "text": [
      "[2023, 2021, 2018, 2014, 2009, 2003, 1996, 1988, 1979, 1969, 1958, 1946, 1933, 1919, 1904, 1888, 1871, 1853, 1834, 1814, 1793, 1771, 1748, 1724, 1699, 1673, 1646, 1618, 1589, 1559, 1528, 1496, 1463, 1429, 1394, 1358, 1321, 1283, 1244, 1204, 1163, 1121, 1078, 1034, 989, 943, 896, 848, 799, 749, 698, 646, 593, 539, 484, 428, 371, 313, 254, 194, 133, 71, 8]\n",
      "63\n"
     ]
    }
   ],
   "source": [
    "start = 2023\n",
    "my_list = [start]\n",
    "\n",
    "for i in range(2, start):\n",
    "    next_num = start - i\n",
    "    if next_num < 0:\n",
    "        break\n",
    "    my_list.append(next_num)\n",
    "    start = next_num\n",
    "print(my_list)\n",
    "print(len(my_list))\n"
   ]
  },
  {
   "cell_type": "code",
   "execution_count": 196,
   "id": "d3f50825",
   "metadata": {},
   "outputs": [
    {
     "name": "stdout",
     "output_type": "stream",
     "text": [
      "Final List: [476]\n"
     ]
    }
   ],
   "source": [
    "while len(my_list) > 1:\n",
    "    # Calculate the difference between the first and last term\n",
    "    difference = my_list[0] - my_list[-1]\n",
    "    first=my_list[0]\n",
    "    last=my_list[-1]\n",
    "    #print(\"Difference:\", difference)\n",
    "    # Append the difference to the list\n",
    "    my_list.append(difference)\n",
    "    # Sort the list in descending order\n",
    "    my_list.sort(reverse=True)\n",
    "    # Discard the first and last terms\n",
    "    my_list.remove(first)\n",
    "    my_list.remove(last)\n",
    "    #print(\"Updated List:\", my_list)\n",
    "\n",
    "print(\"Final List:\", my_list)\n"
   ]
  },
  {
   "cell_type": "code",
   "execution_count": 194,
   "id": "f7531264",
   "metadata": {},
   "outputs": [
    {
     "name": "stdout",
     "output_type": "stream",
     "text": [
      "Final Number: [10]\n",
      "Final Number: [0]\n",
      "Final Number: [2]\n",
      "Final Number: [4]\n",
      "Final Number: [2]\n",
      "Final Number: [0]\n",
      "Final Number: [16]\n",
      "Final Number: [10]\n",
      "Final Number: [10]\n",
      "Final Number: [10]\n",
      "Final Number: [2]\n",
      "Final Number: [2]\n",
      "Final Number: [8]\n",
      "Final Number: [2]\n",
      "Final Number: [4]\n",
      "Final Number: [4]\n",
      "Final Number: [2]\n",
      "Final Number: [0]\n",
      "Final Number: [4]\n",
      "Final Number: [8]\n",
      "Final Number: [12]\n",
      "Final Number: [2]\n",
      "Final Number: [14]\n",
      "Final Number: [2]\n",
      "Final Number: [2]\n",
      "Final Number: [4]\n",
      "Final Number: [2]\n",
      "Final Number: [2]\n",
      "Final Number: [2]\n",
      "Final Number: [0]\n",
      "Final Number: [10]\n",
      "Final Number: [2]\n",
      "Final Number: [12]\n",
      "Final Number: [10]\n",
      "Final Number: [2]\n",
      "Final Number: [12]\n",
      "Final Number: [2]\n",
      "Final Number: [6]\n",
      "Final Number: [4]\n",
      "Final Number: [0]\n",
      "Final Number: [8]\n",
      "Final Number: [12]\n",
      "Final Number: [0]\n",
      "Final Number: [2]\n",
      "Final Number: [4]\n",
      "Final Number: [2]\n",
      "Final Number: [0]\n",
      "Final Number: [8]\n",
      "Final Number: [4]\n",
      "Final Number: [2]\n",
      "Final Number: [6]\n",
      "Final Number: [4]\n",
      "Final Number: [6]\n",
      "Final Number: [6]\n",
      "Final Number: [8]\n",
      "Final Number: [6]\n",
      "Final Number: [8]\n",
      "Final Number: [6]\n",
      "Final Number: [8]\n",
      "Final Number: [2]\n",
      "Final Number: [2]\n",
      "Final Number: [4]\n",
      "Final Number: [4]\n",
      "Final Number: [10]\n",
      "Final Number: [6]\n",
      "Final Number: [0]\n",
      "Final Number: [6]\n",
      "Final Number: [2]\n",
      "Final Number: [0]\n",
      "Final Number: [6]\n",
      "Final Number: [6]\n",
      "Final Number: [0]\n",
      "Final Number: [4]\n",
      "Final Number: [2]\n",
      "Final Number: [6]\n",
      "Final Number: [8]\n",
      "Final Number: [2]\n",
      "Final Number: [12]\n",
      "Final Number: [2]\n",
      "Final Number: [4]\n",
      "Final Number: [2]\n",
      "Final Number: [2]\n",
      "Final Number: [2]\n",
      "Final Number: [0]\n",
      "Final Number: [2]\n",
      "Final Number: [14]\n",
      "Final Number: [14]\n",
      "Final Number: [8]\n",
      "Final Number: [8]\n",
      "Final Number: [2]\n",
      "Final Number: [6]\n",
      "Final Number: [2]\n",
      "Final Number: [8]\n",
      "Final Number: [6]\n",
      "Final Number: [2]\n",
      "Final Number: [12]\n",
      "Final Number: [12]\n",
      "Final Number: [6]\n",
      "Final Number: [4]\n"
     ]
    }
   ],
   "source": [
    "import random\n",
    "\n",
    "\n",
    "for j in range (1,100):\n",
    "\n",
    "    hat = [i for i in range(1, 20)]\n",
    "\n",
    "    while len(hat) > 1:\n",
    "        # Pick 2 random numbers from the list\n",
    "        random_numbers = random.sample(hat, 2)\n",
    "\n",
    "        # Store them in separate variables\n",
    "        num_1 = random_numbers[0]\n",
    "        #print(num_1)\n",
    "        num_2 = random_numbers[1]\n",
    "        #print(num_2)\n",
    "\n",
    "        if num_2 <= num_1:\n",
    "            new = num_1 - num_2\n",
    "        elif num_1 <= num_2:\n",
    "            new = num_2 - num_1\n",
    "\n",
    "        hat.append(new)\n",
    "        hat.sort(reverse=True)\n",
    "        hat.remove(num_1)\n",
    "        hat.remove(num_2)\n",
    "        #print(hat)\n",
    "\n",
    "    print(\"Final Number:\", hat)\n",
    "\n"
   ]
  },
  {
   "cell_type": "code",
   "execution_count": 153,
   "id": "f37d35ed",
   "metadata": {},
   "outputs": [
    {
     "name": "stdout",
     "output_type": "stream",
     "text": [
      "The sum of the given sequence is: 0.29897929173075105\n"
     ]
    }
   ],
   "source": [
    "def calculate_sum():\n",
    "    end_sum = 0\n",
    "    for n in range(1, 32):\n",
    "        term = 1 / ((2*n) * (2*n + 1))\n",
    "        end_sum += term\n",
    "    return end_sum\n",
    "\n",
    "result_1 = calculate_sum()\n",
    "print(\"The sum of the given sequence is:\", result_1)\n"
   ]
  },
  {
   "cell_type": "code",
   "execution_count": 121,
   "id": "f7744a7a",
   "metadata": {},
   "outputs": [
    {
     "name": "stdout",
     "output_type": "stream",
     "text": [
      "The sum of the given sequence is: 0.007537072008171691\n"
     ]
    }
   ],
   "source": [
    "def find_sum():\n",
    "    total_sum = 0\n",
    "    for n in range(63, 1011):\n",
    "        term = 2 / ((2*n) * (2*n - 1))\n",
    "        total_sum += term\n",
    "    return total_sum\n",
    "\n",
    "result_2 = find_sum()\n",
    "print(\"The sum of the given sequence is:\", result_2)\n"
   ]
  },
  {
   "cell_type": "code",
   "execution_count": 109,
   "id": "1b98a4e7",
   "metadata": {},
   "outputs": [
    {
     "name": "stdout",
     "output_type": "stream",
     "text": [
      "The total probability of getting 476 as final number is: 0.30651636373892277\n"
     ]
    }
   ],
   "source": [
    "total_prob=result_1+result_2\n",
    "print('The total probability of getting 476 as final number is:', total_prob)"
   ]
  },
  {
   "cell_type": "code",
   "execution_count": null,
   "id": "94aaf866",
   "metadata": {},
   "outputs": [],
   "source": []
  }
 ],
 "metadata": {
  "kernelspec": {
   "display_name": "Python 3 (ipykernel)",
   "language": "python",
   "name": "python3"
  },
  "language_info": {
   "codemirror_mode": {
    "name": "ipython",
    "version": 3
   },
   "file_extension": ".py",
   "mimetype": "text/x-python",
   "name": "python",
   "nbconvert_exporter": "python",
   "pygments_lexer": "ipython3",
   "version": "3.9.7"
  }
 },
 "nbformat": 4,
 "nbformat_minor": 5
}
