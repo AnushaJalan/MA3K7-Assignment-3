{
 "cells": [
  {
   "cell_type": "code",
   "execution_count": 1,
   "id": "a0c28516",
   "metadata": {},
   "outputs": [],
   "source": [
    "import random\n",
    "import numpy as np"
   ]
  },
  {
   "cell_type": "code",
   "execution_count": 2,
   "id": "14de147a",
   "metadata": {},
   "outputs": [
    {
     "name": "stdout",
     "output_type": "stream",
     "text": [
      "[2023, 2021, 2018, 2014, 2009, 2003, 1996, 1988, 1979, 1969, 1958, 1946, 1933, 1919, 1904, 1888, 1871, 1853, 1834, 1814, 1793, 1771, 1748, 1724, 1699, 1673, 1646, 1618, 1589, 1559, 1528, 1496, 1463, 1429, 1394, 1358, 1321, 1283, 1244, 1204, 1163, 1121, 1078, 1034, 989, 943, 896, 848, 799, 749, 698, 646, 593, 539, 484, 428, 371, 313, 254, 194, 133, 71, 8]\n",
      "63\n"
     ]
    }
   ],
   "source": [
    "start = 2023\n",
    "my_list = [start]\n",
    "\n",
    "for i in range(2, start):\n",
    "    next_num = start - i\n",
    "    if next_num < 0:\n",
    "        break\n",
    "    my_list.append(next_num)\n",
    "    start = next_num\n",
    "print(my_list)\n",
    "print(len(my_list))\n"
   ]
  },
  {
   "cell_type": "code",
   "execution_count": 3,
   "id": "575db3d6",
   "metadata": {},
   "outputs": [
    {
     "name": "stdout",
     "output_type": "stream",
     "text": [
      "Final List: [476]\n"
     ]
    }
   ],
   "source": [
    "while len(my_list) > 1:\n",
    "    # Calculate the difference between the first and last term\n",
    "    difference = my_list[0] - my_list[-1]\n",
    "    first=my_list[0]\n",
    "    last=my_list[-1]\n",
    "    #print(\"Difference:\", difference)\n",
    "    # Append the difference to the list\n",
    "    my_list.append(difference)\n",
    "    # Sort the list in descending order\n",
    "    my_list.sort(reverse=True)\n",
    "    # Discard the first and last terms\n",
    "    my_list.remove(first)\n",
    "    my_list.remove(last)\n",
    "    #print(\"Updated List:\", my_list)\n",
    "\n",
    "print(\"Final List:\", my_list)\n"
   ]
  },
  {
   "cell_type": "code",
   "execution_count": 6,
   "id": "0f0d1943",
   "metadata": {},
   "outputs": [
    {
     "name": "stdout",
     "output_type": "stream",
     "text": [
      "The sum of the given sequence is: 0.007537072008171691\n"
     ]
    }
   ],
   "source": [
    "def find_sum():\n",
    "    total_sum = 0\n",
    "    for n in range(63, 1011):\n",
    "        term = 2 / ((2*n) * (2*n - 1))\n",
    "        total_sum += term\n",
    "    return total_sum\n",
    "\n",
    "result_2 = find_sum()\n",
    "print(\"The sum of the given sequence is:\", result_2)\n"
   ]
  },
  {
   "cell_type": "code",
   "execution_count": 48,
   "id": "e3f830e1",
   "metadata": {},
   "outputs": [
    {
     "name": "stdout",
     "output_type": "stream",
     "text": [
      "Frequency of Final Numbers:\n",
      "Final Number: 0 Frequency: 29\n",
      "Final Number: 2 Frequency: 45\n",
      "Final Number: 4 Frequency: 35\n",
      "Final Number: 6 Frequency: 27\n",
      "Final Number: 8 Frequency: 11\n",
      "Final Number: 10 Frequency: 2\n"
     ]
    },
    {
     "data": {
      "image/png": "[encoded data removed]",
      "text/plain": [
       "<Figure size 432x288 with 1 Axes>"
      ]
     },
     "metadata": {
      "needs_background": "light"
     },
     "output_type": "display_data"
    }
   ],
   "source": [
    "import random\n",
    "import matplotlib.pyplot as plt \n",
    "from collections import defaultdict\n",
    "\n",
    "final_numbers_frequency = defaultdict(int)\n",
    "\n",
    "iterations=150\n",
    "\n",
    "for j in range(1, iterations):\n",
    "    hat = [i for i in range(1, 12)]\n",
    "\n",
    "    while len(hat) > 1:\n",
    "        # Pick 2 random numbers from the list\n",
    "        random_numbers = random.sample(hat, 2)\n",
    "\n",
    "        # Store them in separate variables\n",
    "        num_1 = random_numbers[0]\n",
    "        num_2 = random_numbers[1]\n",
    "\n",
    "        if num_2 <= num_1:\n",
    "            new = num_1 - num_2\n",
    "        elif num_1 <= num_2:\n",
    "            new = num_2 - num_1\n",
    "\n",
    "        hat.append(new)\n",
    "        hat.sort(reverse=True)\n",
    "        hat.remove(num_1)\n",
    "        hat.remove(num_2)\n",
    "\n",
    "    final_number = hat[0]\n",
    "    final_numbers_frequency[final_number] += 1\n",
    "\n",
    "print(\"Frequency of Final Numbers:\")\n",
    "final_numbers_frequency_sorted = dict(sorted(final_numbers_frequency.items(), key=lambda item: item[0], reverse=False))\n",
    "for number, frequency in final_numbers_frequency_sorted.items():\n",
    "    print(\"Final Number:\", number, \"Frequency:\", frequency)\n",
    "\n",
    "#I want to plot the frequency plot for any chosen list and iterations to find any correlation   \n",
    "plt.bar(final_numbers_frequency_sorted.keys(), final_numbers_frequency_sorted.values(), edgecolor='black', color='white')\n",
    "plt.xlabel('Final Numbers')\n",
    "#as the final numbers are all evenly spaced integers from 0, we can set this as the x labels \n",
    "plt.xticks(list(final_numbers_frequency_sorted.keys()))\n",
    "plt.ylabel('Frequency')\n",
    "plt.title('Frequency of Final Numbers after {} Iterations'.format(iterations)) \n",
    "plt.grid(axis='y')\n",
    "plt.show()\n"
   ]
  },
  {
   "cell_type": "markdown",
   "id": "2ac93536",
   "metadata": {},
   "source": [
    "Now if we want to plot multiple bars on one graph"
   ]
  },
  {
   "cell_type": "code",
   "execution_count": 206,
   "id": "8b33632b",
   "metadata": {
    "scrolled": false
   },
   "outputs": [
    {
     "data": {
      "image/png": "[encoded data removed]",
      "text/plain": [
       "<Figure size 1008x432 with 1 Axes>"
      ]
     },
     "metadata": {
      "needs_background": "light"
     },
     "output_type": "display_data"
    }
   ],
   "source": [
    "import random\n",
    "import matplotlib.pyplot as plt \n",
    "from collections import defaultdict\n",
    "\n",
    "def simulate(iterations, list_size):\n",
    "    final_numbers_frequency = defaultdict(int)\n",
    "    for j in range(1, iterations):\n",
    "        hat = [i for i in range(1, list_size + 1)]\n",
    "        while len(hat) > 1:\n",
    "            random_numbers = random.sample(hat, 2)\n",
    "            num_1 = random_numbers[0]\n",
    "            num_2 = random_numbers[1]\n",
    "            if num_2 <= num_1:\n",
    "                new = num_1 - num_2\n",
    "            elif num_1 <= num_2:\n",
    "                new = num_2 - num_1\n",
    "            hat.append(new)\n",
    "            hat.sort(reverse=True)\n",
    "            hat.remove(num_1)\n",
    "            hat.remove(num_2)\n",
    "        final_number = hat[0]\n",
    "        final_numbers_frequency[final_number] += 1\n",
    "    return final_numbers_frequency\n",
    "\n",
    "# Number of iterations for each simulation\n",
    "iterations = 150\n",
    "# List sizes to simulate\n",
    "list_sizes = [15,20,25,30]  # You can add more sizes as needed\n",
    "\n",
    "# Dictionary to store final numbers frequencies for each list size\n",
    "all_final_numbers_frequencies = {}\n",
    "\n",
    "# Run simulations for each list size\n",
    "for list_size in list_sizes:\n",
    "    final_numbers_frequency = simulate(iterations, list_size)\n",
    "    all_final_numbers_frequencies[list_size] = final_numbers_frequency\n",
    "\n",
    "# Initialize an empty list to store all the keys\n",
    "all_keys = []\n",
    "\n",
    "# Iterate over each dictionary in all_final_numbers_frequencies\n",
    "for final_numbers_frequency in all_final_numbers_frequencies.values():\n",
    "    # Retrieve the keys from the current dictionary and append them to all_keys\n",
    "    all_keys.extend(final_numbers_frequency.keys())\n",
    "\n",
    "# Initialize a defaultdict to store the frequency of each key\n",
    "key_frequency = defaultdict(int)\n",
    "\n",
    "# Count the frequency of each key in the list of all keys\n",
    "for key in all_keys:\n",
    "    key_frequency[key] += 1\n",
    "\n",
    "# Sort key_frequency by the ascending value of the keys\n",
    "sorted_key_frequency = dict(sorted(key_frequency.items(), key=lambda item: item[0]))\n",
    "\n",
    "# Plotting\n",
    "plt.figure(figsize=(14, 6))\n",
    "alpha_values = [0.1, 0.3, 0.5, 0.7]\n",
    "bar_width = 0.2\n",
    "for i, (list_size, final_numbers_frequency) in enumerate(all_final_numbers_frequencies.items()):\n",
    "    final_numbers_frequency_sorted = dict(sorted(final_numbers_frequency.items()))\n",
    "    #Checks how many bars will be associated with each x-axis value to ensure they are centred properly\n",
    "    x_values = [x - (0.2 * (sorted_key_frequency[x] / 2)) + 0.2 * i for x in final_numbers_frequency_sorted.keys()]\n",
    "    plt.bar(x_values, final_numbers_frequency_sorted.values(), width=bar_width, alpha=alpha_values[i], color='blue', label=f'List from 1 to {list_size}')\n",
    "\n",
    "plt.xlabel('Final Numbers')\n",
    "plt.ylabel('Frequency')\n",
    "plt.title('Frequency of Final Numbers after {} Iterations for Different List Sizes'.format(iterations)) \n",
    "plt.xticks(range(max(all_keys) + 1))\n",
    "plt.legend()\n",
    "plt.grid(axis='y')\n",
    "plt.show()\n"
   ]
  },
  {
   "cell_type": "code",
   "execution_count": null,
   "id": "aca2a37a",
   "metadata": {},
   "outputs": [],
   "source": []
  }
 ],
 "metadata": {
  "kernelspec": {
   "display_name": "Python 3 (ipykernel)",
   "language": "python",
   "name": "python3"
  },
  "language_info": {
   "codemirror_mode": {
    "name": "ipython",
    "version": 3
   },
   "file_extension": ".py",
   "mimetype": "text/x-python",
   "name": "python",
   "nbconvert_exporter": "python",
   "pygments_lexer": "ipython3",
   "version": "3.9.7"
  }
 },
 "nbformat": 4,
 "nbformat_minor": 5
}
